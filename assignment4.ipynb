{
 "cells": [
  {
   "cell_type": "code",
   "execution_count": null,
   "id": "327f5edd-e340-4e22-91c8-3d472c252a00",
   "metadata": {},
   "outputs": [],
   "source": [
    "##Q-1"
   ]
  },
  {
   "cell_type": "code",
   "execution_count": 3,
   "id": "ef710150-5ed7-4b56-a09d-e440ead73775",
   "metadata": {},
   "outputs": [
    {
     "name": "stdin",
     "output_type": "stream",
     "text": [
      "Enter the percentage:  90\n"
     ]
    },
    {
     "name": "stdout",
     "output_type": "stream",
     "text": [
      "Grade: B\n"
     ]
    }
   ],
   "source": [
    "percentage = float(input(\"Enter the percentage: \"))\n",
    "\n",
    "if percentage > 90:\n",
    "    grade = \"A\"\n",
    "elif percentage > 80 and percentage <= 90:\n",
    "    grade = \"B\"\n",
    "elif percentage >= 60 and percentage <= 80:\n",
    "    grade = \"C\"\n",
    "else:\n",
    "    grade = \"Below C\"\n",
    "\n",
    "print(\"Grade: \" + grade)\n"
   ]
  },
  {
   "cell_type": "code",
   "execution_count": null,
   "id": "76713dca-b2ec-4a7f-bc96-f05083ad115d",
   "metadata": {},
   "outputs": [],
   "source": [
    "##Q-2"
   ]
  },
  {
   "cell_type": "code",
   "execution_count": 17,
   "id": "230c019d-ce6b-4fb3-94e2-f19ce04bae25",
   "metadata": {},
   "outputs": [
    {
     "name": "stdin",
     "output_type": "stream",
     "text": [
      " 10000\n"
     ]
    },
    {
     "name": "stdout",
     "output_type": "stream",
     "text": [
      "road tax to be paid: Rs ,Road tax\n"
     ]
    }
   ],
   "source": [
    "price = int(input())\n",
    "if price > 100000:\n",
    "    tax = 15\n",
    "elif price > 50000 and price <=100000:\n",
    "    tax = 10\n",
    "elif price <= 50000:\n",
    "     tax = 5\n",
    "print(\"road tax to be paid: Rs ,Road tax\")"
   ]
  },
  {
   "cell_type": "code",
   "execution_count": null,
   "id": "287ea6cb-cde8-4014-b44a-2b55f32e6b8b",
   "metadata": {},
   "outputs": [],
   "source": [
    "##Q-3"
   ]
  },
  {
   "cell_type": "code",
   "execution_count": 24,
   "id": "7ff1c578-7376-4515-816c-0672e85c630a",
   "metadata": {},
   "outputs": [
    {
     "name": "stdin",
     "output_type": "stream",
     "text": [
      "Enter a city:  agra\n"
     ]
    },
    {
     "name": "stdout",
     "output_type": "stream",
     "text": [
      "No monuments found for agra\n"
     ]
    }
   ],
   "source": [
    "monuments = {\n",
    "    \"Delhi\": [\"Red Fort\", \"Taj Mahal\"],\n",
    "    \"Agra\": [\"Taj Mahal\"],\n",
    "    \"Jaipur\": [\"Jal Mahal\"]\n",
    "}\n",
    "\n",
    "city = input(\"Enter a city: \")\n",
    "\n",
    "if city in monuments:\n",
    "    print(\"Monuments in\", city + \":\")\n",
    "    for monument in monuments[city]:\n",
    "        print(monument)\n",
    "else:\n",
    "    print(\"No monuments found for\", city)\n"
   ]
  },
  {
   "cell_type": "code",
   "execution_count": null,
   "id": "11c260de-7dce-4652-bb2e-9b750fca8ebc",
   "metadata": {},
   "outputs": [],
   "source": [
    "##Q-4"
   ]
  },
  {
   "cell_type": "code",
   "execution_count": 29,
   "id": "1bdae940-2df2-4894-b14b-5ddc8d855101",
   "metadata": {},
   "outputs": [
    {
     "name": "stdin",
     "output_type": "stream",
     "text": [
      " 33\n"
     ]
    },
    {
     "name": "stdout",
     "output_type": "stream",
     "text": [
      "how many times number can divide by 3 1 time less than or equal to 10\n"
     ]
    }
   ],
   "source": [
    "num = int(input())\n",
    "count = 0\n",
    "while num > 10:\n",
    "    num /= 3\n",
    "    count = +1\n",
    "print(\"how many times number can divide by 3\" , count , \"time less than or equal to 10\") "
   ]
  },
  {
   "cell_type": "code",
   "execution_count": null,
   "id": "73d4d6d2-7baa-449b-9615-ed30ce3d58cf",
   "metadata": {},
   "outputs": [],
   "source": [
    "##Q-5"
   ]
  },
  {
   "cell_type": "code",
   "execution_count": null,
   "id": "2c98b6af-ee24-4b2c-88fd-484f3f1dec34",
   "metadata": {},
   "outputs": [],
   "source": [
    "The while loop is used in Python to repeatedly execute a block of code as long as a certain condition is true. It allows you to create iterative processes where the loop continues until a specific condition is met. The while loop is particularly useful when you don't know the exact number of iterations in advance.\n",
    "\n",
    "Here's a detailed description of when and why to use a while loop in Python:\n",
    "\n"
   ]
  },
  {
   "cell_type": "code",
   "execution_count": 30,
   "id": "8db32bdf-bcae-45d4-83b8-4b5a9e6fa162",
   "metadata": {},
   "outputs": [
    {
     "name": "stdout",
     "output_type": "stream",
     "text": [
      "Iteration 0\n",
      "Iteration 1\n",
      "Iteration 2\n",
      "Iteration 3\n",
      "Iteration 4\n"
     ]
    }
   ],
   "source": [
    "counter = 0\n",
    "while counter < 5:\n",
    "    print(\"Iteration\", counter)\n",
    "    counter += 1\n"
   ]
  },
  {
   "cell_type": "code",
   "execution_count": null,
   "id": "399ac519-5b52-4b8e-8796-111ef05ff081",
   "metadata": {},
   "outputs": [],
   "source": [
    "##Q-6"
   ]
  },
  {
   "cell_type": "code",
   "execution_count": 31,
   "id": "f128931c-4f71-47ed-b921-c3c372ccdb29",
   "metadata": {},
   "outputs": [
    {
     "name": "stdout",
     "output_type": "stream",
     "text": [
      "12345\n",
      "1234\n",
      "123\n",
      "12\n",
      "1\n"
     ]
    }
   ],
   "source": [
    "rows = 5\n",
    "outer_row = rows\n",
    "\n",
    "while outer_row >= 1:\n",
    "    inner_row = 1\n",
    "    while inner_row <= outer_row:\n",
    "        print(inner_row, end=\"\")\n",
    "        inner_row += 1\n",
    "    print()\n",
    "    outer_row -= 1\n"
   ]
  },
  {
   "cell_type": "code",
   "execution_count": 32,
   "id": "50623d54-6a0b-4f41-a315-aa6a97bd36a9",
   "metadata": {},
   "outputs": [
    {
     "name": "stdout",
     "output_type": "stream",
     "text": [
      "1\n",
      "12\n",
      "123\n",
      "1234\n",
      "12345\n"
     ]
    }
   ],
   "source": [
    "rows = 5\n",
    "outer_row = 1\n",
    "\n",
    "while outer_row <= rows:\n",
    "    inner_row = 1\n",
    "    while inner_row <= outer_row:\n",
    "        print(inner_row, end=\"\")\n",
    "        inner_row += 1\n",
    "    print()\n",
    "    outer_row += 1\n"
   ]
  },
  {
   "cell_type": "code",
   "execution_count": 33,
   "id": "8b294ea1-3421-4ef2-8a46-818013633c32",
   "metadata": {},
   "outputs": [
    {
     "name": "stdout",
     "output_type": "stream",
     "text": [
      "*\n",
      "**\n",
      "***\n",
      "****\n",
      "*****\n"
     ]
    }
   ],
   "source": [
    "rows = 5\n",
    "outer_row = 1\n",
    "\n",
    "while outer_row <= rows:\n",
    "    inner_row = 1\n",
    "    while inner_row <= outer_row:\n",
    "        print(\"*\", end=\"\")\n",
    "        inner_row += 1\n",
    "    print()\n",
    "    outer_row += 1\n"
   ]
  },
  {
   "cell_type": "code",
   "execution_count": 34,
   "id": "c5a82b95-2dd2-4690-8311-c7d7f5b7d965",
   "metadata": {},
   "outputs": [],
   "source": [
    "##Q-7"
   ]
  },
  {
   "cell_type": "code",
   "execution_count": 3,
   "id": "9eb35cac-ab8a-4134-aae4-6252aa466c0a",
   "metadata": {},
   "outputs": [],
   "source": [
    "i = 10\n",
    "while i  < 10:\n",
    "    print(i)\n",
    "    i -=1"
   ]
  },
  {
   "cell_type": "code",
   "execution_count": null,
   "id": "035c242f-c804-4d9b-9ead-b21364c061bf",
   "metadata": {},
   "outputs": [],
   "source": []
  }
 ],
 "metadata": {
  "kernelspec": {
   "display_name": "Python 3 (ipykernel)",
   "language": "python",
   "name": "python3"
  },
  "language_info": {
   "codemirror_mode": {
    "name": "ipython",
    "version": 3
   },
   "file_extension": ".py",
   "mimetype": "text/x-python",
   "name": "python",
   "nbconvert_exporter": "python",
   "pygments_lexer": "ipython3",
   "version": "3.10.8"
  }
 },
 "nbformat": 4,
 "nbformat_minor": 5
}
